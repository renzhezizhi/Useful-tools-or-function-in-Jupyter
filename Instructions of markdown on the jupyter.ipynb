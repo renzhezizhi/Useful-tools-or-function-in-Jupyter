{
 "cells": [
  {
   "cell_type": "markdown",
   "metadata": {},
   "source": [
    "# This is a note for how to use the markdowns in Jupyter\n",
    "All the codes are inspired by this blog from __Inge Halilovic__:\n",
    "__[Markdown for Jupyter notebooks cheatsheet](http://datascience.ibm.com/blog/markdown-for-jupyter-notebooks-cheatsheet/)__"
   ]
  },
  {
   "cell_type": "markdown",
   "metadata": {},
   "source": [
    "<a id = \"Hidden_section\"></a> Just ignore this single line code and similar one in the next section now. If you want to know more, go to section \"14. Internal links\""
   ]
  },
  {
   "cell_type": "markdown",
   "metadata": {},
   "source": [
    "***\n",
    "<a id = \"Very_beginning\"></a>\n",
    "## 1. Set the __headlines__ and __subheadlines__ with \"#\"\n",
    "\n",
    "`\"# Headline\"`<br>\n",
    "`\"## majorheadline\"`<br>\n",
    "`\"### subheadline\"`<br>\n",
    "`\"#### 4th level headline\"`<br>\n",
    "\n",
    "__Note: Do not type `\"<br>\"` (a break line tag, will be introduced later, used for change a line, equaling to press the 'enter') after your headline line. It will cause the line shows the headline style.__"
   ]
  },
  {
   "cell_type": "markdown",
   "metadata": {},
   "source": [
    "__The result will be:__\n",
    "# Headline\n",
    "## majorheadline\n",
    "### subheadline\n",
    "#### 4th level headline"
   ]
  },
  {
   "cell_type": "markdown",
   "metadata": {},
   "source": [
    "***\n",
    "## 2. Draw a __horizontal line__ with `\" *** \"`"
   ]
  },
  {
   "cell_type": "markdown",
   "metadata": {},
   "source": [
    "__The result:__\n",
    "***\n",
    "***\n",
    "***"
   ]
  },
  {
   "cell_type": "markdown",
   "metadata": {},
   "source": [
    "***\n",
    "## 3. A bold font or italic font with codes\n",
    "### 1. Bold: __string__ or **string**:\n",
    "`__bold__ or **bold**`\n",
    "### 2. italic: _string_ or *string*:\n",
    "`_italic_ or *italic*`"
   ]
  },
  {
   "cell_type": "markdown",
   "metadata": {},
   "source": [
    "__The result:__ <br>\n",
    "__bold__ or **bold** <br>\n",
    "_italic_ or *italic*\n",
    "\n",
    "To mix:\n",
    "___BOLD-italic___"
   ]
  },
  {
   "cell_type": "markdown",
   "metadata": {},
   "source": [
    "***\n",
    "## 4.  Mathematical symbols <br>\n",
    "`$x = a*b$` <br>\n",
    "`$y = max(a,b)$` <br>\n",
    "`$z = 500 - x + [ sig(k) - y/10 ]$` <br>"
   ]
  },
  {
   "cell_type": "markdown",
   "metadata": {},
   "source": [
    "__The result:__ <br>\n",
    "$x = a*b$ <br>\n",
    "$y = max(a,b)$ <br>\n",
    "$z = 500 - x + [ sig(k) - y/10 ]$ <br>"
   ]
  },
  {
   "cell_type": "markdown",
   "metadata": {},
   "source": [
    "***\n",
    "## 5. Monospace font\n",
    "Surround text with a back single quotation mark \" \\` \".\n",
    "Use monospace for file path and file names and for text users enter or message text users see. <br>\n",
    "It can also be used for showing some syntax keyword such as `<br>`. But if you want to show some single keyword like \" \\` \", you can just type \\ followed by the keyword."
   ]
  },
  {
   "cell_type": "markdown",
   "metadata": {},
   "source": [
    "__The result:__ <br>\n",
    "This line does not has monospace, just for comparison. <br>\n",
    "`This line has monospace. Can you see the difference?`"
   ]
  },
  {
   "cell_type": "markdown",
   "metadata": {},
   "source": [
    "***\n",
    "## 6. Line breaks\n",
    "Sometimes markdown doesn’t make line breaks when you want them. <br> \n",
    "Use this code for a manual line break: `<br>` <br>\n",
    "It works pretty good, isn't is?"
   ]
  },
  {
   "cell_type": "markdown",
   "metadata": {},
   "source": [
    "***\n",
    "## 7. Color\n",
    "To set the text with color:<br>\n",
    "blue | red | green | pink <br>\n",
    "yellow | white | purple <br>\n",
    "khaki | black | gray <br>\n",
    "\n",
    "Use the `<font>` tag like:\n",
    "`<font color = some_color>Your Text</font>`\n",
    "\n",
    "__Note: Not all markdown code works within a font tag, so review your colored text carefully!__"
   ]
  },
  {
   "cell_type": "markdown",
   "metadata": {},
   "source": [
    "__The result:__ <br>\n",
    "<font color=blue>Blue</font> | <font color=red>Red</font> | <font color=green>Green</font> | <font color=pink>Pink</font> <br>\n",
    "<font color=yellow>Yellow</font> | <font color=white>WHITE! Can you see it?</font> | <font color=purple>Purple</font> <br>\n",
    "<font color=khaki>Khaki</font> | <font color=black>Black</font> | <font color=gray>Gray</font> <br>"
   ]
  },
  {
   "cell_type": "markdown",
   "metadata": {},
   "source": [
    "***\n",
    "## 8. indent\n",
    "Use a greater than sign `>` followed by a space, then type any text you want to indent two \"return\" are entered (In Inge's blog is tis said it will end when next carriage return appears)\n",
    "> first indet <br> \n",
    "some following lines in the first indent \n",
    "> >second indent <br>\n",
    "some thing following in the second indet\n",
    "\n",
    "> still the first indet\n",
    "\n",
    "\n",
    "add something in between\n",
    ">> second indent another form\n",
    "> > > third indent\n",
    "\n",
    "End the indet"
   ]
  },
  {
   "cell_type": "markdown",
   "metadata": {},
   "source": [
    "***\n",
    "## 9. Bullets\n",
    "To creates bullets, simply use dash or asterisk, and space:\n",
    "- first bullet level with \"dash space\"\n",
    "- still first level with \"dash space\"\n",
    " - second level bullet with \"space dash space\"\n",
    "- first level bullet with \"dash space\" \n",
    "    - second level with \"tab dash space\"\n",
    " - second level bullet with \"space dash space\"\n",
    "  - second level bullet with \"space space dash space\"\n",
    "   - third level bullet with \"space space space dash space\"\n",
    "  - second level with \"space space dash space\"\n",
    "    - third level bullet with \"tab dash space\"\n",
    "     - fourth level bullet with \"tab space dash space\"\n",
    "        - __fifth__ level bullet with \"__tab tab__ dash space\" <br>\n",
    "        some intro in fifth level, still can use __bold__ font <br>\n",
    "\n",
    "With one blank line (two \"enter\" pressed), the bullet level ends.\n",
    "So when there is no space in front, it is 1st level. When there 1 or 2 space in front, it will be 2nd level. Add one more space, it will goes the next level. And adding one tab will also cause the level to increase or hold base on the previous line's level. In fact, space sometimes acts as a tab. So it might be confusing. Therefore, __it is recommend to use tab to act sub indent__.<br>\n",
    "<br>\n",
    "To use asterisk `*` instead of space may also work:\n",
    "* first level bullet with \"asterisk space\"\n",
    " * second level with \"space asterisk space\"\n",
    "  * second level with \"space space asterisk space\"\n",
    "   * third level with \"space space space asterisk space\"\n",
    "    * third level with \"tab asterisk space\"\n",
    "     * fourth level with \"tab space asterisk space\"\n",
    "     \n",
    "End of bullet"
   ]
  },
  {
   "cell_type": "markdown",
   "metadata": {},
   "source": [
    "***\n",
    "## 10. Numbered list\n",
    "1. something (creat list with a number followed by dot and space)\n",
    "1. something (althogh it writes as '1.' in the code, it will automatically be presents as '2.')\n",
    "3. something\n",
    "    1. something (sub list with a tab, still starts with a number then dot and space. Although it is showed as capital or lower case letter, in the code it actually starts with a number. if you don't start with number, the sublist will not be create).\n",
    "    2. something\n",
    "        1. something (sub sub list with another tab)"
   ]
  },
  {
   "cell_type": "markdown",
   "metadata": {},
   "source": [
    "***\n",
    "## 11. Colored note boxes\n",
    "Use one of these div tags as: <br>\n",
    "__`<div class = \"some_class_name\">your text</div>`<br>__\n",
    "the \"some_class_name\" are strings that controls the color, in other words, the box type. The notes below will be showed as _color: some_class_name_.<br>\n",
    "__Note: Not all markdown code works within a div tag, so review your colored boxes carefully!__<br>\n",
    "\n",
    "\n",
    "### 1.Blue: \"alert alert-block alert-info\" \n",
    "<div class=\"alert alert-block alert-info\">Tip: Use blue boxes for Tips and notes. If it’s a note, you don’t have to include the word “Note”.</div>\n",
    "\n",
    "### 2. Yellow: \"alert alert-block alert-warning\" \n",
    "<div class=\"alert alert-block alert-warning\">Example: Use yellow boxes for examples that are not inside code cells, or use for mathematical formulas if needed.</div>\n",
    "\n",
    "### 3. Green: \"alert alert-block alert-success\"\n",
    "<div class=\"alert alert-block alert-success\">Up to you: Use green boxes sparingly, and only for some specific purpose that the other boxes can't cover. For example, if you have a lot of related content to link to, maybe you decide to use green boxes for related links from each section of a notebook. </div>\n",
    "\n",
    "### 4. Red: \"alert alert-block alert-danger\"\n",
    "<div class=\"alert alert-block alert-danger\">Just don't: In general, just avoid the red boxes.</div>"
   ]
  },
  {
   "cell_type": "markdown",
   "metadata": {},
   "source": [
    "***\n",
    "## 12. Graphics\n",
    "You can insert some pictures or graphics which are hosted on the web. <br>\n",
    "Use it with the code: <br>\n",
    "__`<img src=\"url.gif\" alt=\"Alt text that describes the graphic\" title=\"Title text\"/>`__ <br>\n",
    "So let's show the famous ___Lenna___ picture (You will know the name if you are working on any image processing project. We only show a preview from the SIPI database)\n",
    "However, at this point we can't show any caption (alt and title) of the pictures."
   ]
  },
  {
   "cell_type": "markdown",
   "metadata": {},
   "source": [
    "__The result:__ <br>\n",
    "<img src=\"http://sipi.usc.edu/database/preview/misc/4.2.04.png\" alt=\"This is the Lenna picture that charms thousands of image processors LOL\" title=\"Lenna\" />"
   ]
  },
  {
   "cell_type": "markdown",
   "metadata": {},
   "source": [
    "***\n",
    "## 13. Geometric Shapes\n",
    "This code is used for showing geometric shapes, such as circle from UTF-8 geometric shapes (__[\"This link\"](https://www.w3schools.com/charsets/ref_utf_geometric.asp)__ has all the reference number): <br>\n",
    "__`<p>&#reference number;</p>`__"
   ]
  },
  {
   "cell_type": "markdown",
   "metadata": {},
   "source": [
    "__The result:__ <br>\n",
    "The white circle: <p>&#9675;</p>\n",
    "The up-pointing triangle: <p>&#9651;</p>"
   ]
  },
  {
   "cell_type": "markdown",
   "metadata": {},
   "source": [
    "***\n",
    "## 14. Internal links\n",
    "This is used for link to a section inside the notebook. You need to add a section ID right above the section title using this code: <br>\n",
    "__`<a id=\"section_ID\"></a>`__ <br>\n",
    "Make sure section_ID is unique across the whole notebook where you add the code. And test the link first before release.\n",
    "When click the link showed by following code, you will jump to the section with showing the exact section at very top of the screen. <br>\n",
    "__`[link text](#section_ID)`__"
   ]
  },
  {
   "cell_type": "markdown",
   "metadata": {},
   "source": [
    "__The result:__ <br>\n",
    "Use [this link](#Very_beginning) to jump to the first section (1. Set the __headlines__ and __subheadlines__ with \"#\") <br>\n",
    "Use [this link](#Hidden_section) to reveal the first mystery (The section:\" Just ignore this single line...links\" \")"
   ]
  },
  {
   "cell_type": "markdown",
   "metadata": {},
   "source": [
    "***\n",
    "## 15. External links\n",
    "This is used for jumping to other web pages (files perhaps? you can try) in the notebook. The code is: <br>\n",
    "`__[link name](http://url)__` <br>\n",
    "__Note: Remember to test all the links before release!__"
   ]
  },
  {
   "cell_type": "markdown",
   "metadata": {},
   "source": [
    "__The result:__ <br>\n",
    "Let's jump to the __[wiki page of Lenna](https://en.wikipedia.org/wiki/Lenna)__."
   ]
  }
 ],
 "metadata": {
  "kernelspec": {
   "display_name": "Python 3",
   "language": "python",
   "name": "python3"
  },
  "language_info": {
   "codemirror_mode": {
    "name": "ipython",
    "version": 3
   },
   "file_extension": ".py",
   "mimetype": "text/x-python",
   "name": "python",
   "nbconvert_exporter": "python",
   "pygments_lexer": "ipython3",
   "version": "3.6.2"
  }
 },
 "nbformat": 4,
 "nbformat_minor": 2
}
