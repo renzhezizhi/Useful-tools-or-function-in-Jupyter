{
 "cells": [
  {
   "cell_type": "markdown",
   "metadata": {},
   "source": [
    "# This is a note for how to use the markdowns in Jupyter\n",
    "All the codes are inspired by this blog from __Inge Halilovic__:\n",
    "__[Markdown for Jupyter notebooks cheatsheet](http://datascience.ibm.com/blog/markdown-for-jupyter-notebooks-cheatsheet/)__"
   ]
  },
  {
   "cell_type": "markdown",
   "metadata": {},
   "source": [
    "***\n",
    "## 1. Set the __headlines__ and __subheadlines__ with \"#\":\n",
    "# Headline\n",
    "## majorheadline\n",
    "### subheadlines\n",
    "#### 4th level headline"
   ]
  },
  {
   "cell_type": "markdown",
   "metadata": {},
   "source": [
    "***\n",
    "## 2. Draw a __horizontal line__ with \" \\*** \":\n",
    "***"
   ]
  },
  {
   "cell_type": "markdown",
   "metadata": {},
   "source": [
    "***\n",
    "## 3. A bold font or italic font with codes:\n",
    "### 1. Bold: __string__ or **string**:\n",
    "__bold__ or **bold**\n",
    "### 2. italic: _string_ or *string*:\n",
    "_italic_ or *italic*"
   ]
  },
  {
   "cell_type": "markdown",
   "metadata": {},
   "source": [
    "***\n",
    "## 4.  Mathematical symbols: <br>\n",
    "$x = a*b$ <br>\n",
    "$y = max(a,b)$ <br>\n",
    "$z = 500 - x + [ sig(k) - y/10 ]$ <br>"
   ]
  },
  {
   "cell_type": "markdown",
   "metadata": {},
   "source": [
    "## 5. Monospace font:\n",
    "`Surround text with a back single quotation mark` <br>\n",
    "This line does not has monospace, just for comparison <br>\n",
    "`Use monospace for file path and file names and for text users enter or message text users see`"
   ]
  },
  {
   "cell_type": "markdown",
   "metadata": {},
   "source": [
    "## 6. Line breaks:\n",
    "Sometimes markdown doesn’t make line breaks when you want them. <br> \n",
    "Use this code for a manual line break: `<br>` <br>\n",
    "It works pretty good, isn't is?"
   ]
  },
  {
   "cell_type": "markdown",
   "metadata": {},
   "source": [
    "## 7. Color:\n",
    "To set the text with color:<br>\n",
    "blue|red|green|pink--yellow|white|purple--khaki|black|gray <b>\n",
    "<font color=blue>Blue</font> | <font color=red>Red</font> | <font color=green>Green</font> | <font color=pink>Pink</font> <br>\n",
    "<font color=yellow>Yellow</font> | <font color=white>WHITE! Can you see it?</font> | <font color=purple>Purple</font> <br>\n",
    "<font color=khaki>Khaki</font> | <font color=black>Black</font> | <font color=gray>Gray</font> <br>\n",
    "__Not all markdown code works within a font tag, so review your colored text carefully!__"
   ]
  },
  {
   "cell_type": "markdown",
   "metadata": {},
   "source": [
    "## 8. indent:\n",
    "Use a greater than sign `>` followed by a space, then type any text you want to indent two \"return\" are entered (In Inge's blog is tis said it will end when next carriage return appears)\n",
    "> first indet <br> \n",
    "some following lines in the first indent \n",
    "> >second indent <br>\n",
    "some thing following in the second indet\n",
    "\n",
    "> still the first indet\n",
    "\n",
    "\n",
    "add something in between\n",
    ">> second indent another form\n",
    "> > > third indent\n",
    "\n",
    "End the indet"
   ]
  },
  {
   "cell_type": "markdown",
   "metadata": {},
   "source": [
    "## 9. Bullets\n",
    "To creates bullets, simply use dash or asterisk, and space:\n",
    "- first bullet level with \"dash space\"\n",
    "- still first level with \"dash space\"\n",
    " - second level bullet with \"space dash space\"\n",
    "- first level bullet with \"dash space\" \n",
    "    - second level with \"tab dash space\"\n",
    " - second level bullet with \"space dash space\"\n",
    "  - second level bullet with \"space space dash space\"\n",
    "   - third level bullet with \"space space space dash space\"\n",
    "  - second level with \"space space dash space\"\n",
    "    - third level bullet with \"tab dash space\"\n",
    "     - fourth level bullet with \"tab space dash space\"\n",
    "        - __fifth__ level bullet with \"__tab tab__ dash space\" <br>\n",
    "        some intro in fifth level, still can use __bold__ font <br>\n",
    "\n",
    "With one blank line (two \"enter\" pressed), the bullet level ends.\n",
    "So when there is no space in front, it is 1st level. When there 1 or 2 space in front, it will be 2nd level. Add one more space, it will goes the next level. And adding one tab will also cause the level to increase or hold base on the previous line's level. In fact, space sometimes acts as a tab. So it might be confusing. Therefore, __it is recommend to use tab to act sub indent__.<br>\n",
    "<br>\n",
    "To use asterisk `*` instead of space may also work:\n",
    "* first level bullet with \"asterisk space\"\n",
    " * second level with \"space asterisk space\"\n",
    "  * second level with \"space space asterisk space\"\n",
    "   * third level with \"space space space asterisk space\"\n",
    "    * third level with \"tab asterisk space\"\n",
    "     * fourth level with \"tab space asterisk space\"\n",
    "     \n",
    "End of bullet"
   ]
  },
  {
   "cell_type": "markdown",
   "metadata": {},
   "source": [
    "## 10. Numbered list\n",
    "1. something (creat list with a number followed by dot and space)\n",
    "1. something (althogh it writes as '1.' in the code, it will automatically be presents as '2.')\n",
    "3. something\n",
    "    1. something (sub list with a tab, still starts with a number then dot and space. Although it is showed as capital or lower case letter, in the code it actually starts with a number. if you don't start with number, the sublist will not be create).\n",
    "    2. something\n",
    "        1. something (sub sub list with another tab)"
   ]
  }
 ],
 "metadata": {
  "kernelspec": {
   "display_name": "Python 3",
   "language": "python",
   "name": "python3"
  },
  "language_info": {
   "codemirror_mode": {
    "name": "ipython",
    "version": 3
   },
   "file_extension": ".py",
   "mimetype": "text/x-python",
   "name": "python",
   "nbconvert_exporter": "python",
   "pygments_lexer": "ipython3",
   "version": "3.6.2"
  }
 },
 "nbformat": 4,
 "nbformat_minor": 2
}
